{
 "cells": [
  {
   "cell_type": "code",
   "execution_count": 1,
   "id": "0d98a159",
   "metadata": {},
   "outputs": [],
   "source": [
    "! pip install seaborn"
   ]
  },
  {
   "cell_type": "code",
   "execution_count": 3,
   "id": "f901e53b",
   "metadata": {},
   "outputs": [],
   "source": [
    " # Libs principais\n",
    "from model import *\n",
    "import pandas as pd\n",
    "# Controle de execução e pastas\n",
    "import os\n",
    "# Desativar alguns warnings\n",
    "import warnings\n",
    "warnings.filterwarnings('ignore')\n",
    "\n",
    "import matplotlib.pyplot as plt\n",
    "plt.style.use('ggplot')"
   ]
  },
  {
   "cell_type": "code",
   "execution_count": 6,
   "id": "a3449a6b",
   "metadata": {},
   "outputs": [
    {
     "ename": "ValueError",
     "evalue": "The ordinate (last) dimension should be 2 or 3, got 1",
     "output_type": "error",
     "traceback": [
      "\u001b[31m---------------------------------------------------------------------------\u001b[39m",
      "\u001b[31mValueError\u001b[39m                                Traceback (most recent call last)",
      "\u001b[36mCell\u001b[39m\u001b[36m \u001b[39m\u001b[32mIn[6]\u001b[39m\u001b[32m, line 4\u001b[39m\n\u001b[32m      2\u001b[39m os.chdir(\u001b[33m\"\u001b[39m\u001b[33mdata_ignore\u001b[39m\u001b[33m\"\u001b[39m)\n\u001b[32m      3\u001b[39m model = YoloMicroscopicDataProcessing()\n\u001b[32m----> \u001b[39m\u001b[32m4\u001b[39m \u001b[43mmodel\u001b[49m\u001b[43m.\u001b[49m\u001b[43mImportFromJSON\u001b[49m\u001b[43m(\u001b[49m\u001b[33;43m\"\u001b[39;49m\u001b[33;43mdata/json/10_A_1.json\u001b[39;49m\u001b[33;43m\"\u001b[39;49m\u001b[43m,\u001b[49m\u001b[43mpost_processing\u001b[49m\u001b[43m=\u001b[49m\u001b[43mmodel\u001b[49m\u001b[43m.\u001b[49m\u001b[43mPostProcessing1\u001b[49m\u001b[43m)\u001b[49m   \n",
      "\u001b[36mFile \u001b[39m\u001b[32mc:\\Users\\User\\Desktop\\Repositórios Locais\\traj-analysis\\model.py:436\u001b[39m, in \u001b[36mYoloMicroscopicDataProcessing.ImportFromJSON\u001b[39m\u001b[34m(self, file_path, post_processing)\u001b[39m\n\u001b[32m    431\u001b[39m \u001b[38;5;28mself\u001b[39m.motorcycle_waiting_area_polygon[\u001b[33m\"\u001b[39m\u001b[33mgeometry\u001b[39m\u001b[33m\"\u001b[39m] = \u001b[38;5;28mself\u001b[39m.motorcycle_waiting_area_polygon[\u001b[33m\"\u001b[39m\u001b[33mgeometry\u001b[39m\u001b[33m\"\u001b[39m].apply(\u001b[38;5;28mself\u001b[39m.ScalePxToMeterPolygon)\n\u001b[32m    433\u001b[39m \u001b[38;5;66;03m# Atribui as regiões das faixas de tráfego\u001b[39;00m\n\u001b[32m    434\u001b[39m \u001b[38;5;28mself\u001b[39m.traffic_lane_polygon = gpd.GeoDataFrame(\n\u001b[32m    435\u001b[39m     cfg[\u001b[33m\"\u001b[39m\u001b[33mtraffic_lane_polygon\u001b[39m\u001b[33m\"\u001b[39m],\n\u001b[32m--> \u001b[39m\u001b[32m436\u001b[39m     geometry=[\u001b[43mshapely\u001b[49m\u001b[43m.\u001b[49m\u001b[43mPolygon\u001b[49m\u001b[43m(\u001b[49m\u001b[43mi\u001b[49m\u001b[43m)\u001b[49m \u001b[38;5;28;01mfor\u001b[39;00m i \u001b[38;5;129;01min\u001b[39;00m cfg[\u001b[33m\"\u001b[39m\u001b[33mtraffic_lane_polygon\u001b[39m\u001b[33m\"\u001b[39m][\u001b[33m\"\u001b[39m\u001b[33mcoords\u001b[39m\u001b[33m\"\u001b[39m]],\n\u001b[32m    437\u001b[39m     crs=\u001b[33m\"\u001b[39m\u001b[33mEPSG:31984\u001b[39m\u001b[33m\"\u001b[39m)\n\u001b[32m    438\u001b[39m \u001b[38;5;28mself\u001b[39m.traffic_lane_polygon[\u001b[33m\"\u001b[39m\u001b[33mgeometry\u001b[39m\u001b[33m\"\u001b[39m] = \u001b[38;5;28mself\u001b[39m.traffic_lane_polygon[\u001b[33m\"\u001b[39m\u001b[33mgeometry\u001b[39m\u001b[33m\"\u001b[39m].apply(\u001b[38;5;28mself\u001b[39m.ScalePxToMeterPolygon)\n\u001b[32m    440\u001b[39m \u001b[38;5;66;03m# Atribuir dimensões do vídeo\u001b[39;00m\n",
      "\u001b[36mFile \u001b[39m\u001b[32mc:\\Users\\User\\Desktop\\Repositórios Locais\\traj-analysis\\env\\Lib\\site-packages\\shapely\\geometry\\polygon.py:237\u001b[39m, in \u001b[36mPolygon.__new__\u001b[39m\u001b[34m(self, shell, holes)\u001b[39m\n\u001b[32m    235\u001b[39m     \u001b[38;5;28;01mreturn\u001b[39;00m shell\n\u001b[32m    236\u001b[39m \u001b[38;5;28;01melse\u001b[39;00m:\n\u001b[32m--> \u001b[39m\u001b[32m237\u001b[39m     shell = \u001b[43mLinearRing\u001b[49m\u001b[43m(\u001b[49m\u001b[43mshell\u001b[49m\u001b[43m)\u001b[49m\n\u001b[32m    239\u001b[39m \u001b[38;5;28;01mif\u001b[39;00m holes \u001b[38;5;129;01mis\u001b[39;00m \u001b[38;5;129;01mnot\u001b[39;00m \u001b[38;5;28;01mNone\u001b[39;00m:\n\u001b[32m    240\u001b[39m     \u001b[38;5;28;01mif\u001b[39;00m \u001b[38;5;28mlen\u001b[39m(holes) == \u001b[32m0\u001b[39m:\n\u001b[32m    241\u001b[39m         \u001b[38;5;66;03m# shapely constructor cannot handle holes=[]\u001b[39;00m\n",
      "\u001b[36mFile \u001b[39m\u001b[32mc:\\Users\\User\\Desktop\\Repositórios Locais\\traj-analysis\\env\\Lib\\site-packages\\shapely\\geometry\\polygon.py:104\u001b[39m, in \u001b[36mLinearRing.__new__\u001b[39m\u001b[34m(self, coordinates)\u001b[39m\n\u001b[32m     99\u001b[39m \u001b[38;5;28;01mif\u001b[39;00m \u001b[38;5;28mlen\u001b[39m(coordinates) == \u001b[32m0\u001b[39m:\n\u001b[32m    100\u001b[39m     \u001b[38;5;66;03m# empty geometry\u001b[39;00m\n\u001b[32m    101\u001b[39m     \u001b[38;5;66;03m# TODO better constructor + should shapely.linearrings handle this?\u001b[39;00m\n\u001b[32m    102\u001b[39m     \u001b[38;5;28;01mreturn\u001b[39;00m shapely.from_wkt(\u001b[33m\"\u001b[39m\u001b[33mLINEARRING EMPTY\u001b[39m\u001b[33m\"\u001b[39m)\n\u001b[32m--> \u001b[39m\u001b[32m104\u001b[39m geom = \u001b[43mshapely\u001b[49m\u001b[43m.\u001b[49m\u001b[43mlinearrings\u001b[49m\u001b[43m(\u001b[49m\u001b[43mcoordinates\u001b[49m\u001b[43m)\u001b[49m\n\u001b[32m    105\u001b[39m \u001b[38;5;28;01mif\u001b[39;00m \u001b[38;5;129;01mnot\u001b[39;00m \u001b[38;5;28misinstance\u001b[39m(geom, LinearRing):\n\u001b[32m    106\u001b[39m     \u001b[38;5;28;01mraise\u001b[39;00m \u001b[38;5;167;01mValueError\u001b[39;00m(\u001b[33m\"\u001b[39m\u001b[33mInvalid values passed to LinearRing constructor\u001b[39m\u001b[33m\"\u001b[39m)\n",
      "\u001b[36mFile \u001b[39m\u001b[32mc:\\Users\\User\\Desktop\\Repositórios Locais\\traj-analysis\\env\\Lib\\site-packages\\shapely\\decorators.py:102\u001b[39m, in \u001b[36mdeprecate_positional.<locals>.decorator.<locals>.wrapper\u001b[39m\u001b[34m(*args, **kwargs)\u001b[39m\n\u001b[32m     99\u001b[39m \u001b[38;5;129m@wraps\u001b[39m(func)\n\u001b[32m    100\u001b[39m \u001b[38;5;28;01mdef\u001b[39;00m\u001b[38;5;250m \u001b[39m\u001b[34mwrapper\u001b[39m(*args, **kwargs):\n\u001b[32m    101\u001b[39m     \u001b[38;5;66;03m# call the function first, to make sure the signature matches\u001b[39;00m\n\u001b[32m--> \u001b[39m\u001b[32m102\u001b[39m     ret_value = \u001b[43mfunc\u001b[49m\u001b[43m(\u001b[49m\u001b[43m*\u001b[49m\u001b[43margs\u001b[49m\u001b[43m,\u001b[49m\u001b[43m \u001b[49m\u001b[43m*\u001b[49m\u001b[43m*\u001b[49m\u001b[43mkwargs\u001b[49m\u001b[43m)\u001b[49m\n\u001b[32m    104\u001b[39m     \u001b[38;5;66;03m# check signature to see which positional args were used\u001b[39;00m\n\u001b[32m    105\u001b[39m     sig = inspect.signature(func)\n",
      "\u001b[36mFile \u001b[39m\u001b[32mc:\\Users\\User\\Desktop\\Repositórios Locais\\traj-analysis\\env\\Lib\\site-packages\\shapely\\decorators.py:87\u001b[39m, in \u001b[36mmultithreading_enabled.<locals>.wrapped\u001b[39m\u001b[34m(*args, **kwargs)\u001b[39m\n\u001b[32m     85\u001b[39m     \u001b[38;5;28;01mfor\u001b[39;00m arr \u001b[38;5;129;01min\u001b[39;00m array_args:\n\u001b[32m     86\u001b[39m         arr.flags.writeable = \u001b[38;5;28;01mFalse\u001b[39;00m\n\u001b[32m---> \u001b[39m\u001b[32m87\u001b[39m     \u001b[38;5;28;01mreturn\u001b[39;00m \u001b[43mfunc\u001b[49m\u001b[43m(\u001b[49m\u001b[43m*\u001b[49m\u001b[43margs\u001b[49m\u001b[43m,\u001b[49m\u001b[43m \u001b[49m\u001b[43m*\u001b[49m\u001b[43m*\u001b[49m\u001b[43mkwargs\u001b[49m\u001b[43m)\u001b[49m\n\u001b[32m     88\u001b[39m \u001b[38;5;28;01mfinally\u001b[39;00m:\n\u001b[32m     89\u001b[39m     \u001b[38;5;28;01mfor\u001b[39;00m arr, old_flag \u001b[38;5;129;01min\u001b[39;00m \u001b[38;5;28mzip\u001b[39m(array_args, old_flags):\n",
      "\u001b[36mFile \u001b[39m\u001b[32mc:\\Users\\User\\Desktop\\Repositórios Locais\\traj-analysis\\env\\Lib\\site-packages\\shapely\\creation.py:316\u001b[39m, in \u001b[36mlinearrings\u001b[39m\u001b[34m(coords, y, z, indices, handle_nan, out, **kwargs)\u001b[39m\n\u001b[32m    314\u001b[39m     handle_nan = HandleNaN.get_value(handle_nan)\n\u001b[32m    315\u001b[39m \u001b[38;5;28;01mif\u001b[39;00m indices \u001b[38;5;129;01mis\u001b[39;00m \u001b[38;5;28;01mNone\u001b[39;00m:\n\u001b[32m--> \u001b[39m\u001b[32m316\u001b[39m     \u001b[38;5;28;01mreturn\u001b[39;00m \u001b[43mlib\u001b[49m\u001b[43m.\u001b[49m\u001b[43mlinearrings\u001b[49m\u001b[43m(\u001b[49m\u001b[43mcoords\u001b[49m\u001b[43m,\u001b[49m\u001b[43m \u001b[49m\u001b[43mnp\u001b[49m\u001b[43m.\u001b[49m\u001b[43mintc\u001b[49m\u001b[43m(\u001b[49m\u001b[43mhandle_nan\u001b[49m\u001b[43m)\u001b[49m\u001b[43m,\u001b[49m\u001b[43m \u001b[49m\u001b[43mout\u001b[49m\u001b[43m=\u001b[49m\u001b[43mout\u001b[49m\u001b[43m,\u001b[49m\u001b[43m \u001b[49m\u001b[43m*\u001b[49m\u001b[43m*\u001b[49m\u001b[43mkwargs\u001b[49m\u001b[43m)\u001b[49m\n\u001b[32m    317\u001b[39m \u001b[38;5;28;01melse\u001b[39;00m:\n\u001b[32m    318\u001b[39m     \u001b[38;5;28;01mreturn\u001b[39;00m simple_geometries_1d(\n\u001b[32m    319\u001b[39m         coords, indices, GeometryType.LINEARRING, handle_nan=handle_nan, out=out\n\u001b[32m    320\u001b[39m     )\n",
      "\u001b[31mValueError\u001b[39m: The ordinate (last) dimension should be 2 or 3, got 1"
     ]
    }
   ],
   "source": [
    "if __name__==\"__main__\":\n",
    "    os.chdir(\"data_ignore\")\n",
    "    model = YoloMicroscopicDataProcessing()\n",
    "    model.ImportFromJSON(\"data/json/10_A_1.json\",post_processing=model.PostProcessing1)   "
   ]
  }
 ],
 "metadata": {
  "kernelspec": {
   "display_name": "env",
   "language": "python",
   "name": "python3"
  },
  "language_info": {
   "codemirror_mode": {
    "name": "ipython",
    "version": 3
   },
   "file_extension": ".py",
   "mimetype": "text/x-python",
   "name": "python",
   "nbconvert_exporter": "python",
   "pygments_lexer": "ipython3",
   "version": "3.12.4"
  }
 },
 "nbformat": 4,
 "nbformat_minor": 5
}
